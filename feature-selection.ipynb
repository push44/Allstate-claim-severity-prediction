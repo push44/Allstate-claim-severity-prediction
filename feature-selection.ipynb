{
 "cells": [
  {
   "cell_type": "markdown",
   "metadata": {},
   "source": [
    "## Feature Selection"
   ]
  },
  {
   "cell_type": "markdown",
   "metadata": {},
   "source": [
    "References: <br>\n",
    "<a href='https://www.kaggle.com/tilii7/recursive-feature-elimination/comments'>Kaggle notebook</a> <br>\n",
    "<a href='https://scikit-learn.org/stable/auto_examples/feature_selection/plot_rfe_with_cross_validation.html#sphx-glr-auto-examples-feature-selection-plot-rfe-with-cross-validation-py'>Sklearn RFECV Page</a>"
   ]
  },
  {
   "cell_type": "code",
   "execution_count": 1,
   "metadata": {},
   "outputs": [],
   "source": [
    "import pandas as pd\n",
    "import numpy as np\n",
    "from tqdm.notebook import tqdm\n",
    "from sklearn.ensemble import RandomForestRegressor\n",
    "from sklearn.feature_selection import RFECV\n",
    "from sklearn.model_selection import StratifiedKFold,KFold,train_test_split,GridSearchCV\n",
    "from sklearn.metrics import make_scorer, mean_absolute_error as mae\n",
    "import matplotlib.pyplot as plt\n",
    "import gc\n",
    "import time"
   ]
  },
  {
   "cell_type": "markdown",
   "metadata": {},
   "source": [
    "## Prepare data frame of the extracted features"
   ]
  },
  {
   "cell_type": "code",
   "execution_count": 2,
   "metadata": {
    "_cell_guid": "79c7e3d0-c299-4dcb-8224-4455121ee9b0",
    "_uuid": "d629ff2d2480ee46fbb7e2d37f6b5fab8052498a"
   },
   "outputs": [
    {
     "name": "stdout",
     "output_type": "stream",
     "text": [
      "Execution time in minutes: 21.717430444558463\n"
     ]
    }
   ],
   "source": [
    "# Load target feature\n",
    "train=pd.read_csv('inputs/train.csv')\n",
    "loss=train.loss\n",
    "del train\n",
    "gc.collect()\n",
    "\n",
    "# load engineered features\n",
    "features=pd.read_csv('inputs/features.csv')\n",
    "features=features[features.columns[1:]]\n",
    "\n",
    "# Downcast dataframe to save RAM.\n",
    "# credit:https://www.kaggle.com/anshuls235/m5-forecasting-eda-fe-modelling\n",
    "def downcast(df):\n",
    "    cols = df.dtypes.index.tolist()\n",
    "    types = df.dtypes.values.tolist()\n",
    "    for i,t in enumerate(types):\n",
    "        if 'int' in str(t):\n",
    "            if df[cols[i]].min() > np.iinfo(np.int8).min and df[cols[i]].max() < np.iinfo(np.int8).max:\n",
    "                df[cols[i]] = df[cols[i]].astype(np.int8)\n",
    "            elif df[cols[i]].min() > np.iinfo(np.int16).min and df[cols[i]].max() < np.iinfo(np.int16).max:\n",
    "                df[cols[i]] = df[cols[i]].astype(np.int16)\n",
    "            elif df[cols[i]].min() > np.iinfo(np.int32).min and df[cols[i]].max() < np.iinfo(np.int32).max:\n",
    "                df[cols[i]] = df[cols[i]].astype(np.int32)\n",
    "            else:\n",
    "                df[cols[i]] = df[cols[i]].astype(np.int64)\n",
    "        elif 'float' in str(t):\n",
    "            if df[cols[i]].min() > np.finfo(np.float16).min and df[cols[i]].max() < np.finfo(np.float16).max:\n",
    "                df[cols[i]] = df[cols[i]].astype(np.float16)\n",
    "            elif df[cols[i]].min() > np.finfo(np.float32).min and df[cols[i]].max() < np.finfo(np.float32).max:\n",
    "                df[cols[i]] = df[cols[i]].astype(np.float32)\n",
    "            else:\n",
    "                df[cols[i]] = df[cols[i]].astype(np.float64)\n",
    "        elif t == np.object:\n",
    "            if cols[i] == 'date':\n",
    "                df[cols[i]] = pd.to_datetime(df[cols[i]], format='%Y-%m-%d')\n",
    "            else:\n",
    "                df[cols[i]] = df[cols[i]].astype('category')\n",
    "    return df\n",
    "\n",
    "start=time.time()\n",
    "features=downcast(features)\n",
    "loss=downcast(pd.DataFrame(loss))\n",
    "end=time.time()\n",
    "print('Execution time in minutes:',(end-start)/60)\n",
    "loss=np.ravel(loss)"
   ]
  },
  {
   "cell_type": "markdown",
   "metadata": {},
   "source": [
    "## A) Recurrsive feature elimination with cross validation (RFECV) <br>\n",
    "Recursive feature elimination (RFE) method is a recurrsive method to eliminate least improtant features. It does so by calculating feature importance of the predictor features by predicting target values using a user defined machine learning model. At every step RFE class removes the least important feature untill a user defined number of features are left. On the other hand recurrsive feture elimination with cross validation (RFECV) automatically selects optimal number of features by making use of the cross validation score."
   ]
  },
  {
   "cell_type": "markdown",
   "metadata": {},
   "source": [
    "#### Estimator:\n",
    "For this problem we use random forest regressor(RFR) as our estimator. Paramter of RFR are:\n",
    "<ol>\n",
    "    <li>Number of estimators (decision trees): 100</li>\n",
    "    <li>Maximum depth of any tree: 12</li>\n",
    "    <li>Maximum number of features when looking for the best split: $\\text{n_features}^{1/2}$</li>\n",
    "</ol>\n",
    "\n",
    "#### RFECV:\n",
    "<ol>\n",
    "    <li>Estimator: Random forest regressor</li>\n",
    "    <li>Number of features to eliminate at each iteration: 10</li>\n",
    "    <li>Cross validation method: 5 fold</li>\n",
    "    <li>Scoring funciton: Mean absolute error</li>\n",
    "</ol>"
   ]
  },
  {
   "cell_type": "code",
   "execution_count": null,
   "metadata": {},
   "outputs": [],
   "source": [
    "# Define the estimator: random forest regressor\n",
    "rfr = RandomForestRegressor(n_estimators=100, max_features='sqrt', max_depth=12, n_jobs=-1)"
   ]
  },
  {
   "cell_type": "code",
   "execution_count": null,
   "metadata": {},
   "outputs": [],
   "source": [
    "rfecv = RFECV(estimator=rfr,\n",
    "              step=10,\n",
    "              cv=KFold(n_splits=10,\n",
    "                       shuffle=False),\n",
    "              scoring='neg_mean_absolute_error',\n",
    "              verbose=2,\n",
    "             n_jobs=-1)\n",
    "\n",
    "start=time.time()\n",
    "rfecv.fit(features,(loss+1)**0.25)\n",
    "end=time.time()\n",
    "print('Execution time in hrs:',(end-start)/3600)"
   ]
  },
  {
   "cell_type": "markdown",
   "metadata": {},
   "source": [
    "### Model performance for number of features"
   ]
  },
  {
   "cell_type": "code",
   "execution_count": null,
   "metadata": {},
   "outputs": [],
   "source": [
    "print(' Optimal number of features: %d' % rfecv.n_features_)\n",
    "fig,ax=plt.subplots(figsize=(12,5))\n",
    "ax.plot(range(1, len(rfecv.grid_scores_) + 1), rfecv.grid_scores_)\n",
    "ax.set_xlabel('Number of features tested x 10')\n",
    "ax.set_ylabel('Cross-validation score (negative MAE)',fontsize=10)\n",
    "plt.savefig('Allstate-RFECV.png')\n",
    "plt.show();"
   ]
  },
  {
   "cell_type": "markdown",
   "metadata": {},
   "source": [
    "### Save feature selection data frame"
   ]
  },
  {
   "cell_type": "code",
   "execution_count": null,
   "metadata": {},
   "outputs": [],
   "source": [
    "all_features=features.columns\n",
    "sel_features = [f for f, s in zip(all_features, rfecv.support_) if s]\n",
    "ranking = pd.DataFrame({'Features': all_features})\n",
    "ranking['Rank'] = np.asarray(rfecv.ranking_)\n",
    "ranking.sort_values('Rank', inplace=True)\n",
    "ranking.to_csv('inputs/Allstate-RFECV-ranking.csv', index=False)\n",
    "print(' Ranked features saved:  Allstate-RFECV-ranking.csv')\n",
    "score = round(-np.max(rfecv.grid_scores_), 3)\n",
    "print('Best score:',score)"
   ]
  },
  {
   "cell_type": "code",
   "execution_count": null,
   "metadata": {},
   "outputs": [],
   "source": []
  }
 ],
 "metadata": {
  "kernelspec": {
   "display_name": "Python 3",
   "language": "python",
   "name": "python3"
  },
  "language_info": {
   "codemirror_mode": {
    "name": "ipython",
    "version": 3
   },
   "file_extension": ".py",
   "mimetype": "text/x-python",
   "name": "python",
   "nbconvert_exporter": "python",
   "pygments_lexer": "ipython3",
   "version": "3.7.7"
  }
 },
 "nbformat": 4,
 "nbformat_minor": 4
}
