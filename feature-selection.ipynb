{
 "cells": [
  {
   "cell_type": "markdown",
   "metadata": {},
   "source": [
    "## Feature Selection"
   ]
  },
  {
   "cell_type": "markdown",
   "metadata": {},
   "source": [
    "Credits: <br>\n",
    "1. https://www.kaggle.com/tilii7/recursive-feature-elimination/comments <br>\n",
    "2. https://scikit-learn.org/stable/auto_examples/feature_selection/plot_rfe_with_cross_validation.html#sphx-glr-auto-examples-feature-selection-plot-rfe-with-cross-validation-py"
   ]
  },
  {
   "cell_type": "code",
   "execution_count": 2,
   "metadata": {},
   "outputs": [],
   "source": [
    "import pandas as pd\n",
    "import numpy as np\n",
    "from sklearn.ensemble import RandomForestRegressor\n",
    "from sklearn.feature_selection import RFECV\n",
    "from sklearn.model_selection import StratifiedKFold, KFold\n",
    "import matplotlib.pyplot as plt\n",
    "import gc\n",
    "import time"
   ]
  },
  {
   "cell_type": "markdown",
   "metadata": {},
   "source": [
    "## Prepare data frame of the extracted features"
   ]
  },
  {
   "cell_type": "code",
   "execution_count": 3,
   "metadata": {
    "_cell_guid": "79c7e3d0-c299-4dcb-8224-4455121ee9b0",
    "_uuid": "d629ff2d2480ee46fbb7e2d37f6b5fab8052498a"
   },
   "outputs": [
    {
     "name": "stdout",
     "output_type": "stream",
     "text": [
      "Execution time in minutes: 4.324980962276459\n"
     ]
    }
   ],
   "source": [
    "# Load target feature\n",
    "train=pd.read_csv('inputs/train.csv')\n",
    "loss=train.loss\n",
    "del train\n",
    "gc.collect()\n",
    "\n",
    "# load engineered features\n",
    "features=pd.read_csv('inputs/features.csv')\n",
    "features=features[features.columns[1:]]\n",
    "\n",
    "# Downcast dataframe to save RAM.\n",
    "# credit:https://www.kaggle.com/anshuls235/m5-forecasting-eda-fe-modelling\n",
    "def downcast(df):\n",
    "    cols = df.dtypes.index.tolist()\n",
    "    types = df.dtypes.values.tolist()\n",
    "    for i,t in enumerate(types):\n",
    "        if 'int' in str(t):\n",
    "            if df[cols[i]].min() > np.iinfo(np.int8).min and df[cols[i]].max() < np.iinfo(np.int8).max:\n",
    "                df[cols[i]] = df[cols[i]].astype(np.int8)\n",
    "            elif df[cols[i]].min() > np.iinfo(np.int16).min and df[cols[i]].max() < np.iinfo(np.int16).max:\n",
    "                df[cols[i]] = df[cols[i]].astype(np.int16)\n",
    "            elif df[cols[i]].min() > np.iinfo(np.int32).min and df[cols[i]].max() < np.iinfo(np.int32).max:\n",
    "                df[cols[i]] = df[cols[i]].astype(np.int32)\n",
    "            else:\n",
    "                df[cols[i]] = df[cols[i]].astype(np.int64)\n",
    "        elif 'float' in str(t):\n",
    "            if df[cols[i]].min() > np.finfo(np.float16).min and df[cols[i]].max() < np.finfo(np.float16).max:\n",
    "                df[cols[i]] = df[cols[i]].astype(np.float16)\n",
    "            elif df[cols[i]].min() > np.finfo(np.float32).min and df[cols[i]].max() < np.finfo(np.float32).max:\n",
    "                df[cols[i]] = df[cols[i]].astype(np.float32)\n",
    "            else:\n",
    "                df[cols[i]] = df[cols[i]].astype(np.float64)\n",
    "        elif t == np.object:\n",
    "            if cols[i] == 'date':\n",
    "                df[cols[i]] = pd.to_datetime(df[cols[i]], format='%Y-%m-%d')\n",
    "            else:\n",
    "                df[cols[i]] = df[cols[i]].astype('category')\n",
    "    return df\n",
    "\n",
    "start=time.time()\n",
    "features=downcast(features)\n",
    "loss=downcast(pd.DataFrame(loss))\n",
    "end=time.time()\n",
    "print('Execution time in minutes:',(end-start)/60)\n",
    "loss=np.ravel(loss)"
   ]
  },
  {
   "cell_type": "markdown",
   "metadata": {},
   "source": [
    "## Recurrsive feature elimination with cross validation (RFECV) <br>\n",
    "Recursive feature elimination (RFE) method is a recurrsive method to eliminate least improtant features. It does so by calculating feature importance of the predictor features by predicting target values using a user defined machine learning model. At every step RFE class removes the least important feature untill a user defined number of features are left. On the other hand recurrsive feture elimination with cross validation (RFECV) automatically selects optimal number of features by making use of the cross validation score. <br>\n",
    "#### Estimator:\n",
    "For this problem we use random forest regressor(RFR) as our estimator. Paramter of RFR are:\n",
    "<ol>\n",
    "    <li>Number of estimators (decision trees): 100</li>\n",
    "    <li>Maximum depth of any tree: 12</li>\n",
    "    <li>Maximum number of features when looking for the best split: $\\text{n_features}^{1/2}$</li>\n",
    "</ol>\n",
    "\n",
    "#### RFECV:\n",
    "<ol>\n",
    "    <li>Estimator: Random forest regressor</li>\n",
    "    <li>Number of features to eliminate at each iteration: 10</li>\n",
    "    <li>Cross validation method: 5 fold</li>\n",
    "    <li>Scoring funciton: Mean absolute error</li>\n",
    "</ol>"
   ]
  },
  {
   "cell_type": "code",
   "execution_count": 4,
   "metadata": {},
   "outputs": [],
   "source": [
    "# Define the estimator: random forest regressor\n",
    "rfr = RandomForestRegressor(n_estimators=100, max_features='sqrt', max_depth=12, n_jobs=-1)"
   ]
  },
  {
   "cell_type": "code",
   "execution_count": 5,
   "metadata": {},
   "outputs": [
    {
     "name": "stdout",
     "output_type": "stream",
     "text": [
      "Fitting estimator with 1464 features.\n",
      "Fitting estimator with 1454 features.\n",
      "Fitting estimator with 1444 features.\n",
      "Fitting estimator with 1434 features.\n",
      "Fitting estimator with 1424 features.\n",
      "Fitting estimator with 1414 features.\n",
      "Fitting estimator with 1404 features.\n",
      "Fitting estimator with 1394 features.\n",
      "Fitting estimator with 1384 features.\n",
      "Fitting estimator with 1374 features.\n",
      "Fitting estimator with 1364 features.\n",
      "Fitting estimator with 1354 features.\n",
      "Fitting estimator with 1344 features.\n",
      "Fitting estimator with 1334 features.\n",
      "Fitting estimator with 1324 features.\n",
      "Fitting estimator with 1314 features.\n",
      "Fitting estimator with 1304 features.\n",
      "Fitting estimator with 1294 features.\n",
      "Fitting estimator with 1284 features.\n",
      "Fitting estimator with 1274 features.\n",
      "Fitting estimator with 1264 features.\n",
      "Fitting estimator with 1254 features.\n",
      "Fitting estimator with 1244 features.\n",
      "Fitting estimator with 1234 features.\n",
      "Fitting estimator with 1224 features.\n",
      "Fitting estimator with 1214 features.\n",
      "Fitting estimator with 1204 features.\n",
      "Fitting estimator with 1194 features.\n",
      "Fitting estimator with 1184 features.\n",
      "Fitting estimator with 1174 features.\n",
      "Fitting estimator with 1164 features.\n",
      "Fitting estimator with 1154 features.\n",
      "Fitting estimator with 1144 features.\n",
      "Fitting estimator with 1134 features.\n",
      "Fitting estimator with 1124 features.\n",
      "Fitting estimator with 1114 features.\n",
      "Fitting estimator with 1104 features.\n",
      "Fitting estimator with 1094 features.\n",
      "Fitting estimator with 1084 features.\n",
      "Fitting estimator with 1074 features.\n",
      "Fitting estimator with 1064 features.\n",
      "Fitting estimator with 1054 features.\n",
      "Fitting estimator with 1044 features.\n",
      "Fitting estimator with 1034 features.\n",
      "Fitting estimator with 1024 features.\n",
      "Fitting estimator with 1014 features.\n",
      "Fitting estimator with 1004 features.\n",
      "Fitting estimator with 994 features.\n",
      "Fitting estimator with 984 features.\n",
      "Fitting estimator with 974 features.\n",
      "Fitting estimator with 964 features.\n",
      "Fitting estimator with 954 features.\n",
      "Fitting estimator with 944 features.\n",
      "Fitting estimator with 934 features.\n",
      "Fitting estimator with 924 features.\n",
      "Fitting estimator with 914 features.\n",
      "Fitting estimator with 904 features.\n",
      "Fitting estimator with 894 features.\n",
      "Fitting estimator with 884 features.\n",
      "Fitting estimator with 874 features.\n",
      "Fitting estimator with 864 features.\n",
      "Fitting estimator with 854 features.\n",
      "Fitting estimator with 844 features.\n",
      "Fitting estimator with 834 features.\n",
      "Fitting estimator with 824 features.\n",
      "Fitting estimator with 814 features.\n",
      "Fitting estimator with 804 features.\n",
      "Fitting estimator with 794 features.\n",
      "Fitting estimator with 784 features.\n",
      "Fitting estimator with 774 features.\n",
      "Fitting estimator with 764 features.\n",
      "Fitting estimator with 754 features.\n",
      "Fitting estimator with 744 features.\n",
      "Fitting estimator with 734 features.\n",
      "Fitting estimator with 724 features.\n",
      "Fitting estimator with 714 features.\n",
      "Fitting estimator with 704 features.\n",
      "Fitting estimator with 694 features.\n",
      "Fitting estimator with 684 features.\n",
      "Fitting estimator with 674 features.\n",
      "Fitting estimator with 664 features.\n",
      "Fitting estimator with 654 features.\n",
      "Fitting estimator with 644 features.\n",
      "Fitting estimator with 634 features.\n",
      "Fitting estimator with 624 features.\n",
      "Fitting estimator with 614 features.\n",
      "Fitting estimator with 604 features.\n",
      "Fitting estimator with 594 features.\n",
      "Fitting estimator with 584 features.\n",
      "Fitting estimator with 574 features.\n",
      "Fitting estimator with 564 features.\n",
      "Fitting estimator with 554 features.\n",
      "Fitting estimator with 544 features.\n",
      "Fitting estimator with 534 features.\n",
      "Fitting estimator with 524 features.\n",
      "Fitting estimator with 514 features.\n",
      "Fitting estimator with 504 features.\n",
      "Fitting estimator with 494 features.\n",
      "Fitting estimator with 484 features.\n",
      "Fitting estimator with 474 features.\n",
      "Fitting estimator with 464 features.\n",
      "Fitting estimator with 454 features.\n",
      "Fitting estimator with 444 features.\n",
      "Fitting estimator with 434 features.\n",
      "Fitting estimator with 424 features.\n",
      "Fitting estimator with 414 features.\n",
      "Fitting estimator with 404 features.\n",
      "Fitting estimator with 394 features.\n",
      "Fitting estimator with 384 features.\n",
      "Fitting estimator with 374 features.\n",
      "Fitting estimator with 364 features.\n",
      "Fitting estimator with 354 features.\n",
      "Fitting estimator with 344 features.\n",
      "Fitting estimator with 334 features.\n",
      "Fitting estimator with 324 features.\n",
      "Fitting estimator with 314 features.\n",
      "Fitting estimator with 304 features.\n",
      "Fitting estimator with 294 features.\n",
      "Fitting estimator with 284 features.\n",
      "Fitting estimator with 274 features.\n",
      "Execution time in hrs: 10.761308887402217\n"
     ]
    }
   ],
   "source": [
    "rfecv = RFECV(estimator=rfr,\n",
    "              step=10,\n",
    "              cv=KFold(n_splits=10,\n",
    "                       shuffle=False),\n",
    "              scoring='neg_mean_absolute_error',\n",
    "              verbose=2,\n",
    "             n_jobs=-1)\n",
    "\n",
    "start=time.time()\n",
    "rfecv.fit(features,loss)\n",
    "end=time.time()\n",
    "print('Execution time in hrs:',(end-start)/3600)"
   ]
  },
  {
   "cell_type": "markdown",
   "metadata": {},
   "source": [
    "### Model performance for number of features"
   ]
  },
  {
   "cell_type": "code",
   "execution_count": 7,
   "metadata": {},
   "outputs": [
    {
     "name": "stdout",
     "output_type": "stream",
     "text": [
      " Optimal number of features: 264\n"
     ]
    },
    {
     "data": {
      "image/png": "[encoded data removed]",
      "text/plain": [
       "<Figure size 864x360 with 1 Axes>"
      ]
     },
     "metadata": {
      "needs_background": "light"
     },
     "output_type": "display_data"
    }
   ],
   "source": [
    "print(' Optimal number of features: %d' % rfecv.n_features_)\n",
    "fig,ax=plt.subplots(figsize=(12,5))\n",
    "ax.plot(range(1, len(rfecv.grid_scores_) + 1), rfecv.grid_scores_)\n",
    "ax.set_xlabel('Number of features tested x 10')\n",
    "ax.set_ylabel('Cross-validation score (negative MAE)',fontsize=10)\n",
    "plt.savefig('Allstate-RFECV.png')\n",
    "plt.show();"
   ]
  },
  {
   "cell_type": "markdown",
   "metadata": {},
   "source": [
    "### Save feature selection data frame"
   ]
  },
  {
   "cell_type": "code",
   "execution_count": 8,
   "metadata": {},
   "outputs": [
    {
     "name": "stdout",
     "output_type": "stream",
     "text": [
      " Ranked features saved:  Allstate-RFECV-ranking.csv\n",
      "Best score: 1271.572\n"
     ]
    }
   ],
   "source": [
    "all_features=features.columns\n",
    "sel_features = [f for f, s in zip(all_features, rfecv.support_) if s]\n",
    "ranking = pd.DataFrame({'Features': all_features})\n",
    "ranking['Rank'] = np.asarray(rfecv.ranking_)\n",
    "ranking.sort_values('Rank', inplace=True)\n",
    "ranking.to_csv('inputs/Allstate-RFECV-ranking.csv', index=False)\n",
    "print(' Ranked features saved:  Allstate-RFECV-ranking.csv')\n",
    "score = round(-np.max(rfecv.grid_scores_), 3)\n",
    "print('Best score:',score)"
   ]
  },
  {
   "cell_type": "code",
   "execution_count": null,
   "metadata": {},
   "outputs": [],
   "source": []
  }
 ],
 "metadata": {
  "kernelspec": {
   "display_name": "Python 3",
   "language": "python",
   "name": "python3"
  },
  "language_info": {
   "codemirror_mode": {
    "name": "ipython",
    "version": 3
   },
   "file_extension": ".py",
   "mimetype": "text/x-python",
   "name": "python",
   "nbconvert_exporter": "python",
   "pygments_lexer": "ipython3",
   "version": "3.7.6"
  }
 },
 "nbformat": 4,
 "nbformat_minor": 4
}
